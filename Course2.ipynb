{
 "cells": [
  {
   "cell_type": "markdown",
   "id": "0b016332-8e1b-40fe-a4e8-36554e6af490",
   "metadata": {},
   "source": [
    "<center>\n",
    "    <img src=\"https://s3-api.us-geo.objectstorage.softlayer.net/cf-courses-data/CognitiveClass/Logos/organization_logo/organization_logo.png\" width=\"300\" alt=\"cognitiveclass.ai logo\"  />\n",
    "</center>"
   ]
  },
  {
   "cell_type": "markdown",
   "id": "c43af138-92b7-4926-8f90-c53c071667e3",
   "metadata": {},
   "source": [
    "# My Jupyter Notebook on IBM Watson Studio"
   ]
  },
  {
   "cell_type": "markdown",
   "id": "170c3805-49c2-45cc-a8de-907d18e02069",
   "metadata": {},
   "source": [
    "<b>Cristian Martinez</b>\n",
    "<p>Student</p>"
   ]
  },
  {
   "cell_type": "markdown",
   "id": "32c17627-0875-4c87-9b44-f828a8fe665b",
   "metadata": {},
   "source": [
    "### This code has to sum 2 + 3"
   ]
  },
  {
   "cell_type": "code",
   "execution_count": 2,
   "id": "622d23e2-81c1-4e9f-92c5-074bae673d29",
   "metadata": {},
   "outputs": [
    {
     "data": {
      "text/plain": [
       "5"
      ]
     },
     "execution_count": 2,
     "metadata": {},
     "output_type": "execute_result"
    }
   ],
   "source": [
    "2+3"
   ]
  },
  {
   "cell_type": "markdown",
   "id": "fc349d9d-817e-4d0b-9340-479b46b9fe11",
   "metadata": {},
   "source": [
    "### Ordered List\n",
    "<ol>\n",
    "    <li>Ask</li>\n",
    "    <li>prepare</li>\n",
    "    <li>Process</li>\n",
    "    <li>Analyze</li>\n",
    "</ol>\n",
    "    \n",
    "### Unordered List\n",
    "<ul>\n",
    "    <li>Ask</li>\n",
    "    <li>Analyze</li>\n",
    "    <li>prepare</li>\n",
    "    <li>Process</li>\n",
    "</ul>\n",
    "\n",
    "### Link\n",
    "\n",
    "<a href=\"https://www.google.com\" >Link to Google</a>"
   ]
  }
 ],
 "metadata": {
  "kernelspec": {
   "display_name": "Python",
   "language": "python",
   "name": "conda-env-python-py"
  },
  "language_info": {
   "codemirror_mode": {
    "name": "ipython",
    "version": 3
   },
   "file_extension": ".py",
   "mimetype": "text/x-python",
   "name": "python",
   "nbconvert_exporter": "python",
   "pygments_lexer": "ipython3",
   "version": "3.7.12"
  }
 },
 "nbformat": 4,
 "nbformat_minor": 5
}
